{
 "cells": [
  {
   "cell_type": "markdown",
   "metadata": {
    "application/vnd.databricks.v1+cell": {
     "cellMetadata": {},
     "inputWidgets": {},
     "nuid": "ac5d2c4d-1be6-4f28-87e0-9962b47e8612",
     "showTitle": false,
     "tableResultSettingsMap": {},
     "title": ""
    }
   },
   "source": [
    "# Run vllm (deepseek-ai/DeepSeek-V2-Lite)\n",
    "#### **Cluster config tested for this notebook DOES NOT WORK**\n",
    "- Single Node Cluster, g5.48xlarge, 15.4 LTS ML Runtime\n",
    "- Tested successful on MLR 14.3 with custom installation (first cell)\n",
    "- Tested with deepseek-ai/DeepSeek-V2-Lite, larger model will likely run into oom issues (try A100s)\n",
    "\n",
    "#### **VLLM Version**\n",
    "- Version: `0.6.1.post2`\n"
   ]
  },
  {
   "cell_type": "code",
   "execution_count": 0,
   "metadata": {
    "application/vnd.databricks.v1+cell": {
     "cellMetadata": {
      "byteLimit": 2048000,
      "rowLimit": 10000
     },
     "inputWidgets": {},
     "nuid": "96ffe816-f67d-4e76-8be4-da7fa1d0f27b",
     "showTitle": false,
     "tableResultSettingsMap": {},
     "title": ""
    }
   },
   "outputs": [],
   "source": [
    "#Tested successful on MLR 14.3 (CUDA 11.8)\n",
    "# %sh\n",
    "# export VLLM_VERSION=0.6.1.post1\n",
    "# export PYTHON_VERSION=310\n",
    "# export NCCL_DEBUG=WARN\n",
    "# pip install https://github.com/vllm-project/vllm/releases/download/v${VLLM_VERSION}/vllm-${VLLM_VERSION}+cu118-cp${PYTHON_VERSION}-cp${PYTHON_VERSION}-manylinux1_x86_64.whl --extra-index-url https://download.pytorch.org/whl/cu118\n",
    "# pip install vllm-flash-attn"
   ]
  },
  {
   "cell_type": "code",
   "execution_count": 0,
   "metadata": {
    "application/vnd.databricks.v1+cell": {
     "cellMetadata": {
      "byteLimit": 2048000,
      "rowLimit": 10000
     },
     "inputWidgets": {},
     "nuid": "2ee7d402-a784-48d8-a49e-e1e8136fb857",
     "showTitle": false,
     "tableResultSettingsMap": {},
     "title": ""
    }
   },
   "outputs": [],
   "source": [
    "%sh\n",
    "export NCCL_DEBUG=WARN\n",
    "pip install vllm"
   ]
  },
  {
   "cell_type": "code",
   "execution_count": 0,
   "metadata": {
    "application/vnd.databricks.v1+cell": {
     "cellMetadata": {
      "byteLimit": 2048000,
      "rowLimit": 10000
     },
     "inputWidgets": {},
     "nuid": "22ecbb00-ca5a-4da6-affc-ccd23de7a0b8",
     "showTitle": false,
     "tableResultSettingsMap": {},
     "title": ""
    }
   },
   "outputs": [],
   "source": [
    "dbutils.library.restartPython()"
   ]
  },
  {
   "cell_type": "code",
   "execution_count": 0,
   "metadata": {
    "application/vnd.databricks.v1+cell": {
     "cellMetadata": {
      "byteLimit": 2048000,
      "rowLimit": 10000
     },
     "inputWidgets": {},
     "nuid": "e0d2a87d-3de9-403f-bf1a-aec3bd9a8787",
     "showTitle": true,
     "tableResultSettingsMap": {},
     "title": "collect env for testing"
    }
   },
   "outputs": [],
   "source": [
    "%sh\n",
    "cd /local_disk0\n",
    "wget https://raw.githubusercontent.com/vllm-project/vllm/main/collect_env.py\n",
    "# For security purposes, please feel free to check the contents of collect_env.py before running it.\n",
    "python collect_env.py"
   ]
  },
  {
   "cell_type": "markdown",
   "metadata": {
    "application/vnd.databricks.v1+cell": {
     "cellMetadata": {},
     "inputWidgets": {},
     "nuid": "07840669-1b15-44bb-b96c-8e232502a61d",
     "showTitle": false,
     "tableResultSettingsMap": {},
     "title": ""
    }
   },
   "source": [
    "## Run vllm server"
   ]
  },
  {
   "cell_type": "code",
   "execution_count": 0,
   "metadata": {
    "application/vnd.databricks.v1+cell": {
     "cellMetadata": {
      "byteLimit": 2048000,
      "rowLimit": 10000
     },
     "inputWidgets": {},
     "nuid": "36a64c6c-c8a0-4f3a-b2ba-170e28d07bc1",
     "showTitle": false,
     "tableResultSettingsMap": {},
     "title": ""
    }
   },
   "outputs": [],
   "source": [
    "from dbruntime.databricks_repl_context import get_context\n",
    "ctx = get_context()\n",
    "\n",
    "port = \"1234\"\n",
    "driver_proxy_api = f\"https://{ctx.browserHostName}/driver-proxy-api/o/0/{ctx.clusterId}/{port}\"\n",
    "\n",
    "print(f\"\"\"\n",
    "driver_proxy_api = '{driver_proxy_api}'\n",
    "cluster_id = '{ctx.clusterId}'\n",
    "port = {port}\n",
    "\"\"\")"
   ]
  },
  {
   "cell_type": "code",
   "execution_count": 0,
   "metadata": {
    "application/vnd.databricks.v1+cell": {
     "cellMetadata": {
      "byteLimit": 2048000,
      "rowLimit": 10000
     },
     "inputWidgets": {},
     "nuid": "943c92a9-33d3-455d-97d8-f53036e9249b",
     "showTitle": false,
     "tableResultSettingsMap": {},
     "title": ""
    }
   },
   "outputs": [],
   "source": [
    "# tensor-parallel-size == NUM_GPUS_PER_WORKER for single node cluster\n",
    "!vllm serve deepseek-ai/DeepSeek-V2-Lite --served-model-name deepseek-v2-lite --host 0.0.0.0 --port 1234 --max-model-len 8192 --tensor-parallel-size 8 --max-num-seqs 64 --distributed-executor-backend ray --dtype float16 --trust_remote_code --enforce-eager"
   ]
  },
  {
   "cell_type": "markdown",
   "metadata": {
    "application/vnd.databricks.v1+cell": {
     "cellMetadata": {},
     "inputWidgets": {},
     "nuid": "2bc69686-dfe4-497b-834d-0c3ebaef909f",
     "showTitle": false,
     "tableResultSettingsMap": {},
     "title": ""
    }
   },
   "source": [
    "## Load model locally and test inference (alternative to vllm serving) "
   ]
  },
  {
   "cell_type": "code",
   "execution_count": 0,
   "metadata": {
    "application/vnd.databricks.v1+cell": {
     "cellMetadata": {
      "byteLimit": 2048000,
      "rowLimit": 10000
     },
     "inputWidgets": {},
     "nuid": "ddf8b07d-ec2a-4c95-ab76-3631c947c7eb",
     "showTitle": false,
     "tableResultSettingsMap": {},
     "title": ""
    }
   },
   "outputs": [],
   "source": [
    "# import torch\n",
    "# torch.cuda.memory_summary(device=None, abbreviated=False)"
   ]
  },
  {
   "cell_type": "code",
   "execution_count": 0,
   "metadata": {
    "application/vnd.databricks.v1+cell": {
     "cellMetadata": {
      "byteLimit": 2048000,
      "rowLimit": 10000
     },
     "inputWidgets": {},
     "nuid": "03ff0469-e43f-4b96-85ea-40eac9eebba8",
     "showTitle": false,
     "tableResultSettingsMap": {},
     "title": ""
    }
   },
   "outputs": [],
   "source": [
    "# import torch\n",
    "# torch.cuda.empty_cache()"
   ]
  },
  {
   "cell_type": "code",
   "execution_count": 0,
   "metadata": {
    "application/vnd.databricks.v1+cell": {
     "cellMetadata": {
      "byteLimit": 2048000,
      "rowLimit": 10000
     },
     "inputWidgets": {},
     "nuid": "4fa22029-3e16-497b-8bbc-8a96e7ac94fc",
     "showTitle": false,
     "tableResultSettingsMap": {},
     "title": ""
    }
   },
   "outputs": [],
   "source": [
    "# from vllm import LLM\n",
    "\n",
    "# llm = LLM(model='deepseek-ai/DeepSeek-V2-Lite',trust_remote_code=True, dtype=\"float16\",tensor_parallel_size=NUM_GPUS_PER_WORKER, max_model_len = 8192, max_num_seqs= 64,distributed_executor_backend='ray',enforce_eager=True) \n",
    "# output = llm.generate(\"Hello, my name is\")"
   ]
  },
  {
   "cell_type": "code",
   "execution_count": 0,
   "metadata": {
    "application/vnd.databricks.v1+cell": {
     "cellMetadata": {
      "byteLimit": 2048000,
      "rowLimit": 10000
     },
     "inputWidgets": {},
     "nuid": "9a9353e3-9bc6-4136-b902-523065dbb4ff",
     "showTitle": false,
     "tableResultSettingsMap": {},
     "title": ""
    }
   },
   "outputs": [],
   "source": [
    "# output"
   ]
  },
  {
   "cell_type": "code",
   "execution_count": 0,
   "metadata": {
    "application/vnd.databricks.v1+cell": {
     "cellMetadata": {
      "byteLimit": 2048000,
      "rowLimit": 10000
     },
     "inputWidgets": {},
     "nuid": "c3a596a5-33be-4099-ad45-655b22e741a5",
     "showTitle": false,
     "tableResultSettingsMap": {},
     "title": ""
    }
   },
   "outputs": [],
   "source": [
    "# import ray\n",
    "# ray.shutdown()\n"
   ]
  }
 ],
 "metadata": {
  "application/vnd.databricks.v1+notebook": {
   "computePreferences": null,
   "dashboards": [],
   "environmentMetadata": {
    "base_environment": "",
    "client": "1",
    "dependencies": [
     "nccl"
    ]
   },
   "language": "python",
   "notebookMetadata": {
    "mostRecentlyExecutedCommandWithImplicitDF": {
     "commandId": 1284968239725626,
     "dataframes": [
      "_sqldf"
     ]
    },
    "pythonIndentUnit": 4
   },
   "notebookName": "Run vllm server_MLR15.4_testing",
   "widgets": {}
  },
  "language_info": {
   "name": "python"
  }
 },
 "nbformat": 4,
 "nbformat_minor": 0
}
